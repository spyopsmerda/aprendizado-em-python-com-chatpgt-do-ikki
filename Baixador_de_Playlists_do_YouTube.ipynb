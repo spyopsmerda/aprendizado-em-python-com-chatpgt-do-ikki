{
  "nbformat": 4,
  "nbformat_minor": 0,
  "metadata": {
    "colab": {
      "provenance": []
    },
    "kernelspec": {
      "name": "python3",
      "display_name": "Python 3"
    },
    "language_info": {
      "name": "python"
    }
  },
  "cells": [
    {
      "cell_type": "markdown",
      "source": [
        "# Baixador de Playlists do YouTube \n",
        "\n",
        "O Baixador de Playlists do YouTube é um script que pode ser executado no Google Colab para baixar playlists do YouTube. Ele é capaz de gerar um número aleatório para nomear a pasta onde os arquivos serão salvos e, assim, evitar possíveis conflitos de nomes. Além disso, o script usa o caminho padrão de download do navegador Google Chrome para salvar os arquivos baixados.\n",
        "\n",
        "Para usar o Baixador de Playlists do YouTube, é necessário fazer algumas configurações, como instalar algumas bibliotecas (automático) e **informar o link da playlist** (Manual) que se deseja baixar. Depois disso, basta executar o script e aguardar até que todos os arquivos sejam baixados.\n",
        "\n",
        "Esse script é muito útil para quem precisa baixar várias músicas ou vídeos de uma só vez e não quer fazer o download manualmente. Além disso, o uso do Google Colab permite que o processo seja executado em segundo plano, sem afetar o desempenho do computador.\n",
        "\n",
        "---------------\n",
        "#CONTATO\n",
        "Se recebeu este código de alguém e não faz ideia de como usar, ou teve alguma dúvida, ou erro, fale comigo: @oiikki no [Telegram](https://oiikki.t.me/), ou [Twitter](https://twitter.com/OiIkki). \n",
        "\n",
        "---------------\n",
        "#NOTA DE EXCLUDENTE DE  ILICITUDE\n",
        "\n",
        "O criador do código **Baixador de Playlists do YouTube**, disponibilizado no link do GitHub (inserir link aqui), declara que a finalidade do código é exclusivamente para fins educacionais e de pesquisa, e não deve ser utilizado para ferir a propriedade intelectual de terceiros.\n",
        "\n",
        "O criador do código não se responsabiliza pelo uso indevido do código pelos usuários, incluindo qualquer modificação do código original disponibilizado no GitHub, que resulte em violação dos direitos autorais e/ou propriedade intelectual de terceiros.\n",
        "\n",
        "Caso o código seja utilizado para fins ilegais ou para violar os direitos autorais e/ou propriedade intelectual de terceiros, o utilizador será o único responsável pelas suas ações, estando sujeito às sanções previstas na legislação brasileira, incluindo a Lei de Direitos Autorais (Lei nº 9.610/98), o Código Penal (Decreto-Lei nº 2.848/40) e a Lei de Propriedade Industrial (Lei nº 9.279/96).\n",
        "\n",
        "--------------"
      ],
      "metadata": {
        "id": "OCSPFahYF2Uy"
      }
    },
    {
      "cell_type": "markdown",
      "source": [
        "# Como executar:\n",
        "\n",
        "- Troque para uma conta secuntária do google que você possua, de preferência;\n",
        "- Conecte-se ao computador virtual no canto superior direito; e\n",
        "- Clique em `Ambiente de execução` em seguida em `Executar tudo` ou **Aperte Crtl + F9**.\n",
        "\n",
        "# Quer executar tudo novamente? \n",
        "\n",
        "- Aperte `Crtl + F9` e repita o processo.\n",
        "\n",
        "\n"
      ],
      "metadata": {
        "id": "IS80_6GsSlpA"
      }
    },
    {
      "cell_type": "code",
      "source": [
        "#@title Início\n",
        "\n",
        "print(' ⡴⠑⡄⠀⠀⠀⠀⠀⠀⠀⣀⣀⣤⣤⣤⣀⡀⠀⠀⠀⠀⠀⠀⠀⠀⠀⠀⠀⠀    ')\n",
        "print(' ⠸⡇⠀⠿⡀⠀⠀⠀⣀⡴⢿⣿⣿⣿⣿⣿⣿⣿⣷⣦⡀⠀⠀⠀⠀⠀⠀⠀⠀⠀  ')\n",
        "print(' ⠀⠀⠀⠀⠑⢄⣠⠾⠁⣀⣄⡈⠙⣿⣿⣿⣿⣿⣿⣿⣿⣆⠀⠀⠀⠀⠀⠀⠀⠀  ')\n",
        "print(' ⠀⠀⠀⠀⢀⡀⠁⠀⠀⠈⠙⠛⠂⠈⣿⣿⣿⣿⣿⠿⡿⢿⣆⠀⠀⠀⠀⠀⠀⠀  ')\n",
        "print(' ⠀⠀⠀⢀⡾⣁⣀⠀⠴⠂⠙⣗⡀⠀⢻⣿⣿⠭⢤⣴⣦⣤⣹⠀⠀⠀⢀⢴⣶⣆ ')\n",
        "print(' ⠀⢀⣾⣿⣿⣿⣷⣮⣽⣾⣿⣥⣴⣿⣿⡿⢂⠔⢚⡿⢿⣿⣦⣴⣾⠁⠸⣼⡿ ')\n",
        "print(' ⢀⡞⠁⠙⠻⠿⠟⠉⠀⠛⢹⣿⣿⣿⣿⣿⣌⢤⣼⣿⣾⣿⡟⠉⠀⠀⠀⠀⠀  ')\n",
        "print('  ⣾⣷⣶⠇⠀⠀⣤⣄⣀⡀⠈⠻⣿⣿⣿⣿⣿⣿⣿⣿⣿⣿⡇⠀⠀⠀⠀⠀⠀ ')\n",
        "print(' ⠀⠉⠈⠉⠀⠀⢦⡈⢻⣿⣿⣿⣶⣶⣶⣶⣤⣽⡹⣿⣿⣿⣿⡇⠀⠀⠀⠀⠀⠀ ')\n",
        "print(' ⠀⠀⠀⠀⠀⠀⠀⠉⠲⣽⡻⢿⣿⣿⣿⣿⣿⣿⣷⣜⣿⣿⣿⡇⠀⠀⠀⠀⠀⠀  ')\n",
        "print(' ⠀⠀⠀⠀⠀⠀⠀⠀⢸⣿⣿⣷⣶⣮⣭⣽⣿⣿⣿⣿⣿⣿⣿⠀⠀⠀⠀⠀⠀⠀  ')\n",
        "print(' ⠀⠀⠀⠀⠀⠀⣀⣀⣈⣿⣿⣿⣿⣿⣿⣿⣿⣿⣿⣿⣿⣿⠇⠀⠀⠀⠀⠀⠀⠀ ')\n",
        "print(' ⠀⠀⠀⠀⠀⠀⢿⣿⣿⣿⣿⣿⣿⣿⣿⣿⣿⣿⣿⣿⣿⠃⠀⠀⠀⠀⠀⠀⠀⠀ ')\n",
        "print('⠀⠀⠀⠀⠀⠀⠀⠹⣿⣿⣿⣿⣿⣿⣿⣿⣿⣿⡿⠟⠁⠀⠀⠀⠀⠀⠀⠀⠀⠀ ')\n",
        "print('           ⠉⠛⠻⠿⠿⠿⠿⠛⠉                 ')\n",
        "\n",
        "print('                                             Vamos começar?')"
      ],
      "metadata": {
        "cellView": "form",
        "id": "QgynrYuhVcvH"
      },
      "execution_count": null,
      "outputs": []
    },
    {
      "cell_type": "code",
      "source": [
        "#@title 1 - Bibliotecas que serão utilizadas\n",
        "!pip install pytube\n",
        "\n",
        "#Só o pytube hihi"
      ],
      "metadata": {
        "id": "-F-SMtHbA9Vo",
        "cellView": "form"
      },
      "execution_count": null,
      "outputs": []
    },
    {
      "cell_type": "code",
      "source": [
        "#@title 2 - Cole o link da playlist que seja baixar. Um número aletório será criado e dará nome à pasta\n",
        "\n",
        "from pytube import Playlist\n",
        "import random\n",
        "\n",
        "# Gerar um número inteiro aleatório entre 1 e 9999\n",
        "random_number = random.randint(1, 9999)\n",
        "\n",
        "# Formatando a saída com 4 dígitos preenchidos com zeros à esquerda, caso necessário\n",
        "random_number_formatted = '{:04d}'.format(random_number)\n",
        "\n",
        "# Exibir o número gerado\n",
        "\n",
        "print('O número da pasta será:') \n",
        "print(random_number_formatted)\n",
        "\n",
        "# Exibir uma caixa de diálogo para inserir a URL da playlist do YouTube\n",
        "playlist_url = input('Insira a URL da playlist do YouTube: ')\n",
        "\n",
        "# Criar uma instância da classe Playlist\n",
        "playlist = Playlist(playlist_url)\n",
        "\n",
        "# Nome da pasta onde os vídeos serão salvos\n",
        "folder_name = '{:04d}'.format(random_number)\n",
        "\n",
        "# Cria a pasta se ela não existir\n",
        "import os\n",
        "if not os.path.exists(folder_name):\n",
        "    os.makedirs(folder_name)\n",
        "\n",
        "# Itera sobre os vídeos da playlist\n",
        "for video in playlist.videos:\n",
        "    # Baixa o vídeo\n",
        "    video.streams.get_highest_resolution().download(output_path=folder_name)\n",
        "    print(f'{video.title} foi baixado.')\n",
        "\n",
        "print('Todos os vídeos foram baixados.')"
      ],
      "metadata": {
        "id": "sGBCqDBCPnzi",
        "cellView": "form"
      },
      "execution_count": null,
      "outputs": []
    },
    {
      "cell_type": "code",
      "source": [
        "#@title Interlúdio\n",
        "print ('⣿⣿⣿⣿⣿⣿⣿⣿⣿⣿⣿⣿⣿⣿⣿⣿⣿⣿⣿⣿⣿⣿⣿⣿⣿⣿⣿⣿⣿⣿')\n",
        "print ('⣿⠟⠫⢻⣿⣿⣿⣿⢟⣩⡍⣙⠛⢛⣿⣿⣿⠛⠛⠛⠛⠻⣿⣿⣿⣿⣿⡿⢿⣿')\n",
        "print ('⣿⠤⠄⠄⠙⢿⣿⣿⣿⡿⠿⠛⠛⢛⣧⣿⠇⠄⠂⠄⠄⠄⠘⣿⣿⣿⣿⠁⠄⢻')\n",
        "print ('⣿⣿⣿⣿⣶⣄⣾⣿⢟⣼⠒⢲⡔⣺⣿⣧⠄⠄⣠⠤⢤⡀⠄⠟⠉⣠⣤⣤⣤⣾')\n",
        "print ('⣿⣿⣿⣿⣿⣿⣿⣿⣿⣟⣀⣬⣵⣿⣿⣿⣶⡤⠙⠄⠘⠃⠄⣴⣾⣿⣿⣿⣿⣿')\n",
        "print ('⣿⣿⣿⣿⣿⣿⣿⣿⣿⡿⢻⠿⢿⣿⣿⠿⠋⠁⠄⠂⠉⠒⢘⣿⣿⣿⣿⣿⣿⣿')\n",
        "print ('⣿⣿⣿⣿⣿⣿⣿⣿⡿⣡⣷⣶⣤⣤⣀⡀⠄⠄⠄⠄⠄⠄⠄⣾⣿⣿⣿⣿⣿⣿')\n",
        "print ('⣿⣿⣿⣿⣿⣿⣿⡿⣸⣿⣿⣿⣿⣿⣿⣿⣷⣦⣰⠄⠄⠄⠄⢾⠿⢿⣿⣿⣿⣿')\n",
        "print ('⣿⡿⠋⣡⣾⣿⣿⣿⡟⠉⠉⠈⠉⠉⠉⠉⠉⠄⠄⠄⠑⠄⠄⠐⡇⠄⠈⠙⠛⠋')\n",
        "print ('⠋⠄⣾⣿⣿⣿⣿⡿⠄⠄⠄⠄⠄⠄⠄⠄⠄⠄⠄⠄⠄⠄⠄⢠⡇⠄⠄⠄⠄⠄')\n",
        "print ('⠄⢸⣿⣿⣿⣿⣿⣯⠄⢠⡀⠄⠄⠄⠄⠄⠄⠄⠄⣀⠄⠄⠄⠄⠁⠄⠄⠄⠄⠄')\n",
        "print ('⠁⢸⣿⣿⣿⣿⣿⣯⣧⣬⣿⣤⣐⣂⣄⣀⣠⡴⠖⠈⠄⠄⠄⠄⠄⠄⠄⠄⠄⠄')\n",
        "print ('⠈⠈⣿⣟⣿⣿⣿⣿⣿⣿⣿⣿⣽⣉⡉⠉⠈⠁⠄⠁⠄⠄⠄⠄⡂⠄⠄⠄⠄⠄')\n",
        "print ('⠄⠄⠙⣿⣿⠿⣿⣿⣿⣿⣷⡤⠈⠉⠉⠁⠄⠄⠄⠄⠄⠄⠄⠠⠔⠄⠄⠄⠄⠄')\n",
        "print ('⠄⠄⠄⡈⢿⣷⣿⣿⢿⣿⣿⣷⡦⢤⡀⠄⠄⠄⠄⠄⠄⢐⣠⡿⠁⠄⠄⠄⠄.')\n",
        "\n",
        "print ('RELAXA AMIGÃO, O PROCESSO VAI DEMORAR UM POOUCO.') \n",
        "print ('DÁ TEMPO DE FAZER UM LANCHE, TALVEZ ATÉ UM ALMOÇO!')\n",
        "print (' 😂🍔🍟🌭🍕🍱')"
      ],
      "metadata": {
        "cellView": "form",
        "id": "l-tKE-5IJF_p"
      },
      "execution_count": null,
      "outputs": []
    },
    {
      "cell_type": "code",
      "source": [
        "#@title 3 - Download dos Vídeos em Zip para seu computador \n",
        "from google.colab import files\n",
        "import shutil\n",
        "\n",
        "# Nome da pasta que você deseja baixar\n",
        "folder_name = '{:04d}'.format(random_number)\n",
        "\n",
        "# Compactar a pasta em um arquivo zip\n",
        "shutil.make_archive(folder_name, 'zip', folder_name)\n",
        "\n",
        "# Baixar o arquivo zip\n",
        "files.download(f'{folder_name}.zip')"
      ],
      "metadata": {
        "colab": {
          "base_uri": "https://localhost:8080/",
          "height": 17
        },
        "cellView": "form",
        "id": "mCGR9B6SvEdZ",
        "outputId": "96a6c977-39ca-4df2-fb87-5e3bd4380a5a"
      },
      "execution_count": 13,
      "outputs": [
        {
          "output_type": "display_data",
          "data": {
            "text/plain": [
              "<IPython.core.display.Javascript object>"
            ],
            "application/javascript": [
              "\n",
              "    async function download(id, filename, size) {\n",
              "      if (!google.colab.kernel.accessAllowed) {\n",
              "        return;\n",
              "      }\n",
              "      const div = document.createElement('div');\n",
              "      const label = document.createElement('label');\n",
              "      label.textContent = `Downloading \"${filename}\": `;\n",
              "      div.appendChild(label);\n",
              "      const progress = document.createElement('progress');\n",
              "      progress.max = size;\n",
              "      div.appendChild(progress);\n",
              "      document.body.appendChild(div);\n",
              "\n",
              "      const buffers = [];\n",
              "      let downloaded = 0;\n",
              "\n",
              "      const channel = await google.colab.kernel.comms.open(id);\n",
              "      // Send a message to notify the kernel that we're ready.\n",
              "      channel.send({})\n",
              "\n",
              "      for await (const message of channel.messages) {\n",
              "        // Send a message to notify the kernel that we're ready.\n",
              "        channel.send({})\n",
              "        if (message.buffers) {\n",
              "          for (const buffer of message.buffers) {\n",
              "            buffers.push(buffer);\n",
              "            downloaded += buffer.byteLength;\n",
              "            progress.value = downloaded;\n",
              "          }\n",
              "        }\n",
              "      }\n",
              "      const blob = new Blob(buffers, {type: 'application/binary'});\n",
              "      const a = document.createElement('a');\n",
              "      a.href = window.URL.createObjectURL(blob);\n",
              "      a.download = filename;\n",
              "      div.appendChild(a);\n",
              "      a.click();\n",
              "      div.remove();\n",
              "    }\n",
              "  "
            ]
          },
          "metadata": {}
        },
        {
          "output_type": "display_data",
          "data": {
            "text/plain": [
              "<IPython.core.display.Javascript object>"
            ],
            "application/javascript": [
              "download(\"download_d6d8a86f-f840-44b1-9cef-62550602ca1a\", \"2112.zip\", 22353123)"
            ]
          },
          "metadata": {}
        }
      ]
    },
    {
      "cell_type": "code",
      "source": [
        "#@title DOWNLOAD FINALIZADO\n",
        "\n",
        "print ('⢋⣴⠒⡝⣿⣿⣿⣿⣿⡿⢋⣥⣶⣿⣿⣿⣿⣿⣿⣶⣦⣍⠻⣿⣿⣿⣿⣿⣷⣿ ')\n",
        "print ('⢾⣿⣀⣿⡘⢿⣿⡿⠋⠄⠻⠛⠛⠛⠻⠿⣿⣿⣿⣿⣿⣿⣷⣌⠻⣿⣿⣿⣿⣿ ')\n",
        "print ('⠄⠄⠈⠙⢿⣦⣉⡁⠄⠄⣴⣶⣿⣿⢷⡶⣾⣿⣿⣿⣿⡛⠛⠻⠃⠙⢿⣿⣿⣿ ')\n",
        "print ('⠄⠄⠄⠄⠄⠈⠉⣀⣀⣴⡟⢩⠁⠩⣝⢂⢨⣿⣿⣿⣿⢟⡛⣳⣶⣤⡘⠿⢋⣡ ')\n",
        "print ('⠄⠄⠄⠄⠄⠄⠘⣿⣿⣿⣿⣾⣿⣶⣿⣿⣿⣿⣿⣿⣿⣆⣈⣱⣮⣿⣷⡾⠟⠋ ')\n",
        "print ('⠄⠄⠄⠄⠄⠄⠄⠈⠿⠛⠛⣻⣿⠉⠛⠋⠻⣿⣿⣿⣿⣿⣿⣿⣿⣿⣿⣆⠸⣿ ')\n",
        "print ('⠄⠄⠄⠄⢀⡠⠄⢒⣤⣟⠿⣿⣿⣿⣷⣤⣤⣀⣀⣉⣉⣠⣽⣿⣟⠻⣿⣿⡆⢻ ')\n",
        "print ('⠄⣀⠄⠄⠄⠄⠈⠋⠉⣿⣿⣶⣿⣟⣛⡿⠿⣿⣿⣿⣿⣿⣿⣿⣿⣷⣼⣿⡇⣸ ')\n",
        "print ('⣿⠃⠄⠄⠄⠄⠄⠄⠠⣿⣿⣿⣿⣿⣿⣿⣿⣿⣿⣶⣶⣾⣿⣿⣿⣿⣿⣿⠁⢿ ')\n",
        "print ('⡋⠄⠄⠄⠄⠄⠄⢰⣷⣿⣿⣿⣿⣿⣿⣿⣿⣿⣿⣿⣿⣿⣿⣿⣿⣿⣿⣿⠄⠄ ')\n",
        "print ('⠋⠄⠄⠄⠄⠄⠄⠄⠙⢿⣿⣿⣿⣿⣿⣿⣿⣿⣿⣿⣿⣿⣿⣿⣿⣿⣿⣿⠂⠠ ')\n",
        "print ('⠄⠄⠄⠄⠄⠄⠄⠄⠄⠄⠄⠙⠿⣿⣿⣿⣿⣿⣿⣿⣿⣿⣿⣿⡿⢿⣿⡿⠄⢈ ')\n",
        "print ('⠄⠄⠄⠄⠄⠄⠄⠄⠄⠄⠄⠄⠄⠈⠛⠛⠿⠿⠿⢿⣿⡿⠟⢋⣴⣿⢿⡋⠄⠄ ')\n",
        "print ('⣠⣴⠶⠖⠂⠄⠄⠄⠄⠄⠄⠄⠄⠄⠄⠄⠄⠄⠄⢀⣠⣴⣾⣿⡿⢫⠞⠄⠄⠄ ')\n",
        "print ('⣿⣿⣿⣿⣾⣆⡀⠄⠄⠄⠄⠄⠄⠄⠄⠄⣀⣤⣶⣿⣿⣿⢿⣧⣶⠏⠄     ')\n",
        "\n",
        "print ('tá pronto! 😎👍')\n",
        "\n"
      ],
      "metadata": {
        "cellView": "form",
        "id": "9nAcQcQ2JKvA"
      },
      "execution_count": null,
      "outputs": []
    }
  ]
}